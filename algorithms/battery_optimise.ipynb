{
 "cells": [
  {
   "cell_type": "code",
   "execution_count": 0,
   "metadata": {
    "application/vnd.databricks.v1+cell": {
     "cellMetadata": {},
     "inputWidgets": {},
     "nuid": "fae1d834-9b92-4069-9cae-777e9a496125",
     "showTitle": false,
     "title": ""
    }
   },
   "outputs": [],
   "source": [
    "import pandas as pd\n",
    "\n",
    "from battery_optimise import *\n",
    "from algo_utils import plot_actions\n",
    "\n",
    "pd.set_option('display.float_format',lambda x : '%.2f' % x)"
   ]
  },
  {
   "cell_type": "markdown",
   "metadata": {
    "application/vnd.databricks.v1+cell": {
     "cellMetadata": {},
     "inputWidgets": {},
     "nuid": "40752037-8579-4006-9ed9-4c6dd2945cf6",
     "showTitle": false,
     "title": ""
    }
   },
   "source": [
    "### Simulate battery optimisation"
   ]
  },
  {
   "cell_type": "code",
   "execution_count": 0,
   "metadata": {
    "application/vnd.databricks.v1+cell": {
     "cellMetadata": {},
     "inputWidgets": {},
     "nuid": "9c70b9e0-0928-49e0-abf7-93c70f7d7869",
     "showTitle": false,
     "title": ""
    }
   },
   "outputs": [],
   "source": [
    "# Read data\n",
    "data = pd.read_csv(\"../data/energy_prices_fy24.csv\")\n",
    "data['time'] = pd.to_datetime(data['time'])"
   ]
  },
  {
   "cell_type": "code",
   "execution_count": 0,
   "metadata": {
    "application/vnd.databricks.v1+cell": {
     "cellMetadata": {},
     "inputWidgets": {},
     "nuid": "9b87f29b-774e-4fe9-838e-b9313b95fcb1",
     "showTitle": false,
     "title": ""
    }
   },
   "outputs": [],
   "source": [
    "result = battery_optimisation(data.time, data.energy_price, cycle_cost=1000.0, daily_cycle_limit=1, solver='appsi_highs')"
   ]
  },
  {
   "cell_type": "code",
   "execution_count": 0,
   "metadata": {
    "application/vnd.databricks.v1+cell": {
     "cellMetadata": {},
     "inputWidgets": {},
     "nuid": "1f0bd4e2-520c-4a10-adf0-8a2d4cd31566",
     "showTitle": false,
     "title": ""
    }
   },
   "outputs": [],
   "source": [
    "result.to_csv('../result/result_dispatch_cycle_cost_fy24_v2.csv')"
   ]
  },
  {
   "cell_type": "markdown",
   "metadata": {
    "application/vnd.databricks.v1+cell": {
     "cellMetadata": {},
     "inputWidgets": {},
     "nuid": "968a15ef-fc2e-462e-96d1-def18c0a2ce7",
     "showTitle": false,
     "title": ""
    }
   },
   "source": [
    "##### Visualise result"
   ]
  },
  {
   "cell_type": "code",
   "execution_count": 0,
   "metadata": {
    "application/vnd.databricks.v1+cell": {
     "cellMetadata": {},
     "inputWidgets": {},
     "nuid": "c21089ab-dd34-4d21-ae9f-44bdb723331a",
     "showTitle": false,
     "title": ""
    }
   },
   "outputs": [],
   "source": [
    "# chart_data = pd.read_csv('test_result.csv', index_col='time', parse_dates=['time'])"
   ]
  },
  {
   "cell_type": "code",
   "execution_count": 0,
   "metadata": {
    "application/vnd.databricks.v1+cell": {
     "cellMetadata": {},
     "inputWidgets": {},
     "nuid": "e2228ed9-1f89-480e-9275-136c227d6c7c",
     "showTitle": false,
     "title": ""
    }
   },
   "outputs": [],
   "source": [
    "start_day = 90\n",
    "days_to_plot = 5\n",
    "start = int(288*(start_day-1))\n",
    "end = int(288*(start_day+days_to_plot-1))\n",
    "plot_actions(result.spot_price, result.power, opening_capacity=result.opening_capacity, start=start, end=end)"
   ]
  },
  {
   "cell_type": "markdown",
   "metadata": {
    "application/vnd.databricks.v1+cell": {
     "cellMetadata": {},
     "inputWidgets": {},
     "nuid": "be27160a-e4de-41c5-8552-b3da1119e9ce",
     "showTitle": false,
     "title": ""
    }
   },
   "source": [
    "##### Assumptions:\n"
   ]
  },
  {
   "cell_type": "markdown",
   "metadata": {
    "application/vnd.databricks.v1+cell": {
     "cellMetadata": {},
     "inputWidgets": {},
     "nuid": "c1bbc3ca-7c0f-42bf-ac75-494ad8b61cd4",
     "showTitle": false,
     "title": ""
    }
   },
   "source": [
    "- **Perfect foresight** on spot price <br>\n",
    "- Battery does not degrade throughout the optimisation horizon <br>\n",
    "- Battery cannot charge and discharge concurrently "
   ]
  },
  {
   "cell_type": "markdown",
   "metadata": {
    "application/vnd.databricks.v1+cell": {
     "cellMetadata": {},
     "inputWidgets": {},
     "nuid": "33464ce8-ae13-4c64-898e-29bf62809993",
     "showTitle": false,
     "title": ""
    }
   },
   "source": [
    "To formulate the algorithm, we've treated the battery system as a linear programming problem. The following are the objective function, parameters, decision variables and operational constraint for the linear programming model. The objective function is the objective we would like to maximise, which is the revenue over the time horizon of optimisation. <br>\n",
    "- The objective function:<br>\n",
    "$\\sum_{t=1}^{T}{P_t}(\\frac{D_t{E}}{2}{\\eta}-\\frac{C_t}{2{\\eta}})$ <br>\n",
    "<br>\n",
    "- Parameters: <br>\n",
    "$T$: Time horizon of arbitrage <br>\n",
    "$P_t$: Spot price at time t <br>\n",
    "$E$: Charge and discharge efficiency of the battery <br>\n",
    "$\\eta$: Marginal Loss Factor <br>\n",
    "<br>\n",
    "- Decision Variables: <br>\n",
    "$Capacity_t$: Opening Capacity at time t <br>\n",
    "$C_t$: Charge Power at time t <br>\n",
    "$D_t$: Discharge Power at time t <br>\n",
    "<br>\n",
    "- Opertaion Constraint: <br>\n",
    "$Capacity_t = {Capacity_{t-1}} + \\frac{C_t}{2}E - \\frac{D_t}{2}$ <br>\n",
    "$0 \\leq {Capacity_t} \\leq 580, \\forall t \\in T$ <br>\n",
    "$0 \\leq {C_t} \\leq 300, \\forall t \\in T$ <br>\n",
    "$0 \\leq {D_t} \\leq 300, \\forall t \\in T$ <br>\n",
    "$D_t \\leq \\frac{Capacity_t\\times{E}}{2}$ <br>\n",
    "$when\\; P_t < 0,\\:D_t = 0$ <br>"
   ]
  }
 ],
 "metadata": {
  "application/vnd.databricks.v1+notebook": {
   "dashboards": [],
   "environmentMetadata": {
    "base_environment": "/Workspace/Users/reinzy.colle@ausgrid.com.au/Battery-Optimisation/base_env.yml",
    "client": "1"
   },
   "language": "python",
   "notebookMetadata": {
    "pythonIndentUnit": 4
   },
   "notebookName": "battery_optimise",
   "widgets": {}
  },
  "interpreter": {
   "hash": "40d3a090f54c6569ab1632332b64b2c03c39dcf918b08424e98f38b5ae0af88f"
  },
  "kernelspec": {
   "display_name": "Python 3.8.8 64-bit ('base': conda)",
   "name": "python3"
  },
  "language_info": {
   "codemirror_mode": {
    "name": "ipython",
    "version": 3
   },
   "file_extension": ".py",
   "mimetype": "text/x-python",
   "name": "python",
   "nbconvert_exporter": "python",
   "pygments_lexer": "ipython3",
   "version": "3.12.5"
  }
 },
 "nbformat": 4,
 "nbformat_minor": 0
}
