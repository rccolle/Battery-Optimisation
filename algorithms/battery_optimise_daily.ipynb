{
 "cells": [
  {
   "cell_type": "code",
   "execution_count": 0,
   "metadata": {
    "application/vnd.databricks.v1+cell": {
     "cellMetadata": {},
     "inputWidgets": {},
     "nuid": "2b212a17-10ad-4579-b17d-088844c1cbf3",
     "showTitle": false,
     "title": ""
    }
   },
   "outputs": [],
   "source": [
    "import pandas as pd\n",
    "\n",
    "from battery_optimise import *\n",
    "from algo_utils import plot_actions\n",
    "\n",
    "pd.set_option('display.float_format',lambda x : '%.2f' % x)"
   ]
  },
  {
   "cell_type": "markdown",
   "metadata": {
    "application/vnd.databricks.v1+cell": {
     "cellMetadata": {},
     "inputWidgets": {},
     "nuid": "0ecd2cc7-1822-4c27-8492-730a739dae2f",
     "showTitle": false,
     "title": ""
    }
   },
   "source": [
    "### Simulate battery optimisation"
   ]
  },
  {
   "cell_type": "code",
   "execution_count": 0,
   "metadata": {
    "application/vnd.databricks.v1+cell": {
     "cellMetadata": {},
     "inputWidgets": {},
     "nuid": "efe80e0e-cd0a-48de-ac53-e979b64cec9f",
     "showTitle": false,
     "title": ""
    }
   },
   "outputs": [],
   "source": [
    "# Read data\n",
    "data = pd.read_csv(\"../data/energy_prices_fy24.csv\")\n",
    "data['time'] = pd.to_datetime(data['time'])"
   ]
  },
  {
   "cell_type": "markdown",
   "metadata": {
    "application/vnd.databricks.v1+cell": {
     "cellMetadata": {},
     "inputWidgets": {},
     "nuid": "8bafeca2-f962-4d5f-802e-a85ac7c64e7a",
     "showTitle": false,
     "title": ""
    }
   },
   "source": [
    "Split data into daily chunks"
   ]
  },
  {
   "cell_type": "code",
   "execution_count": 0,
   "metadata": {
    "application/vnd.databricks.v1+cell": {
     "cellMetadata": {},
     "inputWidgets": {},
     "nuid": "de37bc5e-78e6-496a-8fd8-e198f5c2f428",
     "showTitle": false,
     "title": ""
    }
   },
   "outputs": [],
   "source": [
    "data['date'] = (data['time'] - pd.Timedelta(minutes=5)).dt.date\n",
    "dates = data['date'].unique()"
   ]
  },
  {
   "cell_type": "markdown",
   "metadata": {
    "application/vnd.databricks.v1+cell": {
     "cellMetadata": {},
     "inputWidgets": {},
     "nuid": "3fe798e9-0998-4e27-b7df-6fb17bb0afa6",
     "showTitle": false,
     "title": ""
    }
   },
   "source": [
    "Run daily optimisation"
   ]
  },
  {
   "cell_type": "code",
   "execution_count": 0,
   "metadata": {
    "application/vnd.databricks.v1+cell": {
     "cellMetadata": {},
     "inputWidgets": {},
     "nuid": "618e44d6-fc86-49df-843a-a8a91511ef9b",
     "showTitle": false,
     "title": ""
    }
   },
   "outputs": [],
   "source": [
    "df = []\n",
    "cycles = 0\n",
    "stored_energy = 0\n",
    "cycle_cost = 1000.0\n",
    "daily_cycle_limit = 3\n",
    "new_cycle_limit = daily_cycle_limit\n",
    "for date in dates:\n",
    "    data_chunk = data[data['date']==date]\n",
    "    result_day = battery_optimisation(\n",
    "        data_chunk.time, \n",
    "        data_chunk.energy_price,\n",
    "        initial_capacity = stored_energy,\n",
    "        initial_cycles = cycles,\n",
    "        cycle_cost = cycle_cost, \n",
    "        daily_cycle_limit = new_cycle_limit, \n",
    "        solver='appsi_highs'\n",
    "        )\n",
    "    df.append(result_day)\n",
    "\n",
    "    # Persist battery state into next day\n",
    "    cycles = result_day['cycles'].iloc[-1]\n",
    "    stored_energy = result_day['closing_capacity'].iloc[-1]\n",
    "    new_cycle_limit = cycles + daily_cycle_limit\n",
    "\n",
    "result = pd.concat(df, axis=0)"
   ]
  },
  {
   "cell_type": "code",
   "execution_count": 0,
   "metadata": {
    "application/vnd.databricks.v1+cell": {
     "cellMetadata": {},
     "inputWidgets": {},
     "nuid": "fbeb1efa-6c42-4beb-a14a-1f5ae2564518",
     "showTitle": false,
     "title": ""
    }
   },
   "outputs": [],
   "source": [
    "result.to_csv('../result/result_daily_dispatch_cycle_cost_fy24_v3_3cycles.csv')"
   ]
  },
  {
   "cell_type": "markdown",
   "metadata": {
    "application/vnd.databricks.v1+cell": {
     "cellMetadata": {},
     "inputWidgets": {},
     "nuid": "8f9f3735-e0e7-4d92-8c3a-81d07f88de0a",
     "showTitle": false,
     "title": ""
    }
   },
   "source": [
    "##### Visualise result"
   ]
  },
  {
   "cell_type": "code",
   "execution_count": 0,
   "metadata": {
    "application/vnd.databricks.v1+cell": {
     "cellMetadata": {},
     "inputWidgets": {},
     "nuid": "fac37273-b900-4d17-8ee4-897947041b7d",
     "showTitle": false,
     "title": ""
    }
   },
   "outputs": [],
   "source": [
    "# chart_data = pd.read_csv('test_result.csv', index_col='time', parse_dates=['time'])"
   ]
  },
  {
   "cell_type": "code",
   "execution_count": 0,
   "metadata": {
    "application/vnd.databricks.v1+cell": {
     "cellMetadata": {},
     "inputWidgets": {},
     "nuid": "d049cc60-7089-4c03-899e-393f98220cfa",
     "showTitle": false,
     "title": ""
    }
   },
   "outputs": [],
   "source": [
    "start_day = 90\n",
    "days_to_plot = 5\n",
    "start = int(288*(start_day-1))\n",
    "end = int(288*(start_day+days_to_plot-1))\n",
    "plot_actions(result.spot_price, result.power, opening_capacity=result.opening_capacity, start=start, end=end)"
   ]
  },
  {
   "cell_type": "markdown",
   "metadata": {
    "application/vnd.databricks.v1+cell": {
     "cellMetadata": {},
     "inputWidgets": {},
     "nuid": "08492722-c0c7-4be7-adea-9201e6d5a0f8",
     "showTitle": false,
     "title": ""
    }
   },
   "source": [
    "##### Assumptions:\n"
   ]
  },
  {
   "cell_type": "markdown",
   "metadata": {
    "application/vnd.databricks.v1+cell": {
     "cellMetadata": {},
     "inputWidgets": {},
     "nuid": "1909eb9e-5f3c-445d-89ba-60bda6b68d69",
     "showTitle": false,
     "title": ""
    }
   },
   "source": [
    "- **Perfect foresight** on spot price <br>\n",
    "- Battery does not degrade throughout the optimisation horizon <br>\n",
    "- Battery cannot charge and discharge concurrently "
   ]
  },
  {
   "cell_type": "markdown",
   "metadata": {
    "application/vnd.databricks.v1+cell": {
     "cellMetadata": {},
     "inputWidgets": {},
     "nuid": "d033e3fd-0898-4793-9462-e3d548c2a8ca",
     "showTitle": false,
     "title": ""
    }
   },
   "source": [
    "To formulate the algorithm, we've treated the battery system as a linear programming problem. The following are the objective function, parameters, decision variables and operational constraint for the linear programming model. The objective function is the objective we would like to maximise, which is the revenue over the time horizon of optimisation. <br>\n",
    "- The objective function:<br>\n",
    "$\\sum_{t=1}^{T}{P_t}(\\frac{D_t{E}}{2}{\\eta}-\\frac{C_t}{2{\\eta}})$ <br>\n",
    "<br>\n",
    "- Parameters: <br>\n",
    "$T$: Time horizon of arbitrage <br>\n",
    "$P_t$: Spot price at time t <br>\n",
    "$E$: Charge and discharge efficiency of the battery <br>\n",
    "$\\eta$: Marginal Loss Factor <br>\n",
    "<br>\n",
    "- Decision Variables: <br>\n",
    "$Capacity_t$: Opening Capacity at time t <br>\n",
    "$C_t$: Charge Power at time t <br>\n",
    "$D_t$: Discharge Power at time t <br>\n",
    "<br>\n",
    "- Opertaion Constraint: <br>\n",
    "$Capacity_t = {Capacity_{t-1}} + \\frac{C_t}{2}E - \\frac{D_t}{2}$ <br>\n",
    "$0 \\leq {Capacity_t} \\leq 580, \\forall t \\in T$ <br>\n",
    "$0 \\leq {C_t} \\leq 300, \\forall t \\in T$ <br>\n",
    "$0 \\leq {D_t} \\leq 300, \\forall t \\in T$ <br>\n",
    "$D_t \\leq \\frac{Capacity_t\\times{E}}{2}$ <br>\n",
    "$when\\; P_t < 0,\\:D_t = 0$ <br>"
   ]
  }
 ],
 "metadata": {
  "application/vnd.databricks.v1+notebook": {
   "dashboards": [],
   "environmentMetadata": {
    "base_environment": "/Workspace/Users/reinzy.colle@ausgrid.com.au/Battery-Optimisation/base_env.yml",
    "client": "1"
   },
   "language": "python",
   "notebookMetadata": {
    "pythonIndentUnit": 4
   },
   "notebookName": "battery_optimise_daily",
   "widgets": {}
  },
  "interpreter": {
   "hash": "40d3a090f54c6569ab1632332b64b2c03c39dcf918b08424e98f38b5ae0af88f"
  },
  "kernelspec": {
   "display_name": "Python 3.8.8 64-bit ('base': conda)",
   "name": "python3"
  },
  "language_info": {
   "codemirror_mode": {
    "name": "ipython",
    "version": 3
   },
   "file_extension": ".py",
   "mimetype": "text/x-python",
   "name": "python",
   "nbconvert_exporter": "python",
   "pygments_lexer": "ipython3",
   "version": "3.12.5"
  }
 },
 "nbformat": 4,
 "nbformat_minor": 0
}
