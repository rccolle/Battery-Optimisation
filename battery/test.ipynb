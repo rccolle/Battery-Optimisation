{
 "cells": [
  {
   "cell_type": "code",
   "execution_count": 17,
   "metadata": {},
   "outputs": [],
   "source": [
    "import pyomo.environ as pyo\n",
    "import pandas as pd"
   ]
  },
  {
   "cell_type": "code",
   "execution_count": 18,
   "metadata": {},
   "outputs": [],
   "source": [
    "class Battery(pyo.ConcreteModel):\n",
    "    def __init__(self,\n",
    "                 market_period,\n",
    "                 max_power = 1,\n",
    "                 max_stored_energy = 2,\n",
    "                 round_trip_efficiency = 0.85,\n",
    "                 cycle_cost = 0,\n",
    "                 daily_cycle_limit = 1, \n",
    "                 power = 0, \n",
    "                 initial_stored_energy = 0, \n",
    "                 *args, \n",
    "                 **kwargs):\n",
    "        \n",
    "        pyo.ConcreteModel.__init__(self, *args, **kwargs)\n",
    "        self.max_power = max_power                          # Maximum charge/discharge power (MW AC)\n",
    "        self.max_stored_energy = max_stored_energy          # Maximum energy storage capacity (MWh DC)\n",
    "        self.round_trip_efficiency = round_trip_efficiency  # Round trip efficiency (%)\n",
    "        self.cycle_cost = cycle_cost                        # Energy cost per cycle ($/cycle)\n",
    "        self.daily_cycle_limit = daily_cycle_limit          # Maximum cycles allowed per day (cycles/day)\n",
    "\n",
    "        self.market_period = pyo.Set(initialize = market_period, ordered = True)    # Market period (datetime)\n",
    "        \n",
    "        # Battery variables\n",
    "        self.stored_energy = pyo.Var(self.market_period, bounds = (0, self.max_stored_energy))   # Stored energy (MWh DC)\n",
    "        self.power = pyo.Var(self.market_period, bounds = (-self.max_power, self.max_power))     # Charge/discharge power (MW AC)"
   ]
  },
  {
   "cell_type": "code",
   "execution_count": 19,
   "metadata": {},
   "outputs": [],
   "source": [
    "start = pd.to_datetime('2023-07-01 00:05')\n",
    "end = pd.to_datetime('2024-07-01 00:00')\n",
    "\n",
    "market_period = pd.date_range(start=start, end=end, freq='5min')"
   ]
  },
  {
   "cell_type": "code",
   "execution_count": 20,
   "metadata": {},
   "outputs": [],
   "source": [
    "battery = Battery(market_period=market_period, max_power=5, max_stored_energy=10, cycle_cost=0, daily_cycle_limit=1)"
   ]
  }
 ],
 "metadata": {
  "kernelspec": {
   "display_name": "battery_optimisation",
   "language": "python",
   "name": "python3"
  },
  "language_info": {
   "codemirror_mode": {
    "name": "ipython",
    "version": 3
   },
   "file_extension": ".py",
   "mimetype": "text/x-python",
   "name": "python",
   "nbconvert_exporter": "python",
   "pygments_lexer": "ipython3",
   "version": "3.12.7"
  }
 },
 "nbformat": 4,
 "nbformat_minor": 2
}
