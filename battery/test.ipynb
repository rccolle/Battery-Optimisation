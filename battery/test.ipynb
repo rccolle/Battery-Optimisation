{
 "cells": [
  {
   "cell_type": "code",
   "execution_count": 1,
   "metadata": {},
   "outputs": [],
   "source": [
    "import pyomo.environ as pyo"
   ]
  },
  {
   "cell_type": "code",
   "execution_count": 2,
   "metadata": {},
   "outputs": [],
   "source": [
    "class Battery(pyo.ConcreteModel):\n",
    "    def __init__(self, max_power = 1, max_stored_energy = 2, round_trip_efficiency = 0.85, cycle_cost = 0, daily_cycle_limit = 1, power = 0, stored_energy = 0):\n",
    "        self.max_power = max_power                          # Maximum charge/discharge power (MW AC)\n",
    "        self.max_stored_energy = max_stored_energy          # Maximum energy storage capacity (MWh DC)\n",
    "        self.power = power                                  # Current charge/discharge power (MW AC)\n",
    "        self.stored_energy = stored_energy                  # Current stored energy (MWh DC)\n",
    "        self.round_trip_efficiency = round_trip_efficiency  # Round trip efficiency (%)\n",
    "        self.cycle_cost = cycle_cost                        # Energy cost per cycle ($/cycle)\n",
    "        self.daily_cycle_limit = daily_cycle_limit          # Maximum cycles allowed per day (cycles/day)"
   ]
  },
  {
   "cell_type": "code",
   "execution_count": 3,
   "metadata": {},
   "outputs": [],
   "source": [
    "battery = Battery(max_power=5, max_stored_energy=10, cycle_cost=0, daily_cycle_limit=1)"
   ]
  }
 ],
 "metadata": {
  "kernelspec": {
   "display_name": "battery_optimisation",
   "language": "python",
   "name": "python3"
  },
  "language_info": {
   "codemirror_mode": {
    "name": "ipython",
    "version": 3
   },
   "file_extension": ".py",
   "mimetype": "text/x-python",
   "name": "python",
   "nbconvert_exporter": "python",
   "pygments_lexer": "ipython3",
   "version": "3.12.7"
  }
 },
 "nbformat": 4,
 "nbformat_minor": 2
}
